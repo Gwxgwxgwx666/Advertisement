{
 "cells": [
  {
   "cell_type": "code",
   "execution_count": 1,
   "metadata": {},
   "outputs": [],
   "source": [
    "import numpy as np\n",
    "import pandas as pd\n",
    "from sklearn.linear_model import LinearRegression\n",
    "from sklearn.preprocessing import MinMaxScaler\n",
    "from sklearn.metrics import mean_absolute_error, mean_squared_error\n",
    "from sklearn.model_selection import train_test_split\n",
    "import matplotlib.pyplot as plt"
   ]
  },
  {
   "cell_type": "code",
   "execution_count": 2,
   "metadata": {},
   "outputs": [
    {
     "name": "stdout",
     "output_type": "stream",
     "text": [
      "Pearson Corr = \n",
      "             Unnamed: 0        TV     Radio  Newspaper     Sales       TV2       TV3    TV_LOG    TV_REV    Radio2    Radio3  Radio_LOG  Radio_REV\n",
      "Unnamed: 0    1.000000  0.017715 -0.110680  -0.154944 -0.051616  0.017686  0.016399  0.005157  0.033130 -0.091132 -0.075833  -0.099016   0.033783\n",
      "TV            0.017715  1.000000  0.054809   0.056648  0.782224  0.967662  0.912265  0.887969 -0.286755  0.050844  0.048734   0.092570  -0.055387\n",
      "Radio        -0.110680  0.054809  1.000000   0.354104  0.576223  0.078644  0.085030 -0.010842  0.078869  0.966752  0.912164   0.758066  -0.111558\n",
      "Newspaper    -0.154944  0.056648  0.354104   1.000000  0.228299  0.076442  0.087403  0.040322 -0.074944  0.361405  0.348591   0.260393  -0.069735\n",
      "Sales        -0.051616  0.782224  0.576223   0.228299  1.000000  0.735582  0.683391  0.751694 -0.317623  0.561608  0.535404   0.446286  -0.071268\n",
      "TV2           0.017686  0.967662  0.078644   0.076442  0.735582  1.000000  0.984478  0.769122 -0.208433  0.074717  0.069934   0.107774  -0.062667\n",
      "TV3           0.016399  0.912265  0.085030   0.087403  0.683391  0.984478  1.000000  0.680391 -0.170165  0.081937  0.076365   0.105920  -0.058803\n",
      "TV_LOG        0.005157  0.887969 -0.010842   0.040322  0.751694  0.769122  0.680391  1.000000 -0.568435 -0.012010 -0.007365   0.030584  -0.020368\n",
      "TV_REV        0.033130 -0.286755  0.078869  -0.074944 -0.317623 -0.208433 -0.170165 -0.568435  1.000000  0.077246  0.068316   0.048808  -0.007979\n",
      "Radio2       -0.091132  0.050844  0.966752   0.361405  0.561608  0.074717  0.081937 -0.012010  0.077246  1.000000  0.985102   0.644226  -0.073606\n",
      "Radio3       -0.075833  0.048734  0.912164   0.348591  0.535404  0.069934  0.076365 -0.007365  0.068316  0.985102  1.000000   0.567356  -0.058701\n",
      "Radio_LOG    -0.099016  0.092570  0.758066   0.260393  0.446286  0.107774  0.105920  0.030584  0.048808  0.644226  0.567356   1.000000  -0.637812\n",
      "Radio_REV     0.033783 -0.055387 -0.111558  -0.069735 -0.071268 -0.062667 -0.058803 -0.020368 -0.007979 -0.073606 -0.058701  -0.637812   1.000000\n"
     ]
    }
   ],
   "source": [
    "pd.set_option('display.width', 500)\n",
    "np.set_printoptions(suppress=True)\n",
    "\n",
    "data = pd.read_csv('Advertising.csv')\n",
    "data['Radio'] += 0.0001\n",
    "\n",
    "data['TV2'] = data['TV'] ** 2\n",
    "data['TV3'] = data['TV'] ** 3\n",
    "data['TV_LOG'] = np.log(data['TV'])\n",
    "data['TV_REV'] = 1/data['TV']\n",
    "\n",
    "data['Radio2'] = data['Radio'] ** 2\n",
    "data['Radio3'] = data['Radio'] ** 3\n",
    "data['Radio_LOG'] = np.log(data['Radio'])\n",
    "data['Radio_REV'] = 1 / data['Radio']\n",
    "\n",
    "print('Pearson Corr = \\n', data.corr())"
   ]
  },
  {
   "cell_type": "code",
   "execution_count": 3,
   "metadata": {},
   "outputs": [
    {
     "name": "stdout",
     "output_type": "stream",
     "text": [
      "[ -6.89265823  50.37591023  12.67709229  -4.96382935  28.36037357\n",
      "  36.97862675 -58.38373873  30.44410948 -41.30500977 -28.29657612] 15.652928784466871\n",
      "\t TV -6.892658234817\n",
      "\t Radio 50.37591022620066\n",
      "\t TV2 12.677092293935786\n",
      "\t TV3 -4.963829350595155\n",
      "\t TV_LOG 28.36037356515398\n",
      "\t TV_REV 36.97862675459254\n",
      "\t Radio2 -58.38373873013242\n",
      "\t Radio3 30.444109475743165\n",
      "\t Radio_LOG -41.30500977221441\n",
      "\t Radio_REV -28.296576124253427\n",
      "Train Set MAE = 0.939474, MSE = 1.492113, RMSE = 1.221521\n",
      "0.0850895263279687\n",
      "0.07961306606684679\n",
      "Test Set MAE = 1.558116, MSE = 16.062102, RMSE = 4.007755\n",
      "0.30258627596171667\n",
      "0.40598628463878605\n"
     ]
    }
   ],
   "source": [
    "x_cols = ['TV', 'Radio', 'TV2', 'TV3', 'TV_LOG', 'TV_REV', 'Radio2', 'Radio3', 'Radio_LOG', 'Radio_REV']\n",
    "x = data[x_cols]\n",
    "mms = MinMaxScaler()\n",
    "x = mms.fit_transform(x)\n",
    "y = data['Sales']\n",
    "x_train, x_test, y_train, y_test = train_test_split(x, y, test_size=0.3, random_state=0)\n",
    "model = LinearRegression()\n",
    "model.fit(x_train, y_train)\n",
    "print(model.coef_, model.intercept_)\n",
    "for col_name, coef in zip(x_cols, model.coef_):\n",
    "    print('\\t', col_name, coef)\n",
    "y_train_pred = model.predict(x_train)\n",
    "mae_train = mean_absolute_error(y_train, y_train_pred)\n",
    "mse_train = mean_squared_error(y_train, y_train_pred)\n",
    "rmse_train = np.sqrt(mse_train)\n",
    "print('Train Set MAE = %f, MSE = %f, RMSE = %f' % (mae_train, mse_train, rmse_train))\n",
    "print(rmse_train / np.mean(y_train))\n",
    "print(np.mean(np.abs(y_train - y_train_pred) / y_train))\n",
    "\n",
    "y_test_pred = model.predict(x_test)\n",
    "mae_test = mean_absolute_error(y_test, y_test_pred)\n",
    "mse_test = mean_squared_error(y_test, y_test_pred)\n",
    "rmse_test = np.sqrt(mse_test)\n",
    "print('Test Set MAE = %f, MSE = %f, RMSE = %f' % (mae_test, mse_test, rmse_test))\n",
    "print(rmse_test / np.mean(y_test))\n",
    "print(np.mean(np.abs(y_test - y_test_pred) / y_test))"
   ]
  },
  {
   "cell_type": "code",
   "execution_count": null,
   "metadata": {},
   "outputs": [],
   "source": []
  }
 ],
 "metadata": {
  "kernelspec": {
   "display_name": "Python 3",
   "language": "python",
   "name": "python3"
  },
  "language_info": {
   "codemirror_mode": {
    "name": "ipython",
    "version": 3
   },
   "file_extension": ".py",
   "mimetype": "text/x-python",
   "name": "python",
   "nbconvert_exporter": "python",
   "pygments_lexer": "ipython3",
   "version": "3.6.3"
  },
  "latex_envs": {
   "LaTeX_envs_menu_present": true,
   "autoclose": false,
   "autocomplete": true,
   "bibliofile": "biblio.bib",
   "cite_by": "apalike",
   "current_citInitial": 1,
   "eqLabelWithNumbers": true,
   "eqNumInitial": 1,
   "hotkeys": {
    "equation": "Ctrl-E",
    "itemize": "Ctrl-I"
   },
   "labels_anchors": false,
   "latex_user_defs": false,
   "report_style_numbering": false,
   "user_envs_cfg": false
  },
  "toc": {
   "base_numbering": 1,
   "nav_menu": {},
   "number_sections": true,
   "sideBar": true,
   "skip_h1_title": false,
   "title_cell": "Table of Contents",
   "title_sidebar": "Contents",
   "toc_cell": false,
   "toc_position": {},
   "toc_section_display": true,
   "toc_window_display": false
  }
 },
 "nbformat": 4,
 "nbformat_minor": 2
}
